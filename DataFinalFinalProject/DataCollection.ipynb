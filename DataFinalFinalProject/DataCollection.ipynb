{
 "cells": [
  {
   "cell_type": "markdown",
   "metadata": {},
   "source": [
    "# Data Collection and Cleaning\n",
    "\n",
    "Spotify is one of the biggest online music platforms in the world and it has great audio features for every song, such as 'danceability', 'energy', 'loudness', 'instrumentalness', etc., as well as a popularity rank from 0-100 for every song, so we chose to use the Spotify Web API to collect song data.\n",
    "\n",
    "We decided to start by looking at Spotify's most popular songs in the past year. Spotify has a collection of the top 200 songs in the US every day since January 1st, 2017 available to download as csv files (https://spotifycharts.com/regional). We decided to download csvs from the 1st and 15th of every month from January 2017 - May 2018.  Variables included in the csv are simple, including the artist, title, number of streams, and url.\n",
    "\n",
    "Using Spotify's Web API, we then decided to use the artist's name from the top tracks csv files to extract all of their songs released in 2017 and 2018. We wanted to extract all of their tracks rather than just their most popular tracks so we could have more tracks and a larger range of popularity for the model.\n",
    "\n",
    "After getting the songs from Spotify, we could use the ID of the song to request its specific audio features, and put that into a data frame.\n",
    "\n",
    "We also wanted to get the genre for each song. We realized the best way to do this through Spotify was to request the genres of the artists and combine that with their tracks in the dataframe, as Spotify's individual tracks do not have genres associated with them in the API.\n",
    "\n",
    "Throughout the process we needed to save a lot of csv files so we could pick back up from them later because the collection process was very lengthy. We left the .to_csv code commented out so that you don't accidentally run those cells and overwrite the existing data.\n",
    "\n",
    "The two resulting csv files, final_tracks.csv and song_lyrics.csv, are saved in the data301/share folder for use in the analysis and machine learning notebooks. final_tracks.csv ended up with a little over 6,000 songs."
   ]
  },
  {
   "cell_type": "markdown",
   "metadata": {},
   "source": [
    "# Song Collection"
   ]
  },
  {
   "cell_type": "code",
   "execution_count": 2,
   "metadata": {},
   "outputs": [],
   "source": [
    "import json\n",
    "import requests\n",
    "import pandas as pd\n",
    "from pandas.io.json import json_normalize\n",
    "import time\n",
    "\n",
    "token = \"BQDHsbFz-bgWgRdOIksHDMB20MgtKE7dXOQtcC4_-LKKTDqaZz8ivcRhq-AzLxCxBeX7gpHPVWAzctHdSDy1TKT2eEsoiUNk8a7V-VTRfhvog0OwQblohfbGv1Y9mzuQkNn0vGn3jx7w\""
   ]
  },
  {
   "cell_type": "code",
   "execution_count": null,
   "metadata": {},
   "outputs": [],
   "source": [
    "# read in top200 charts csv files into dataframe\n",
    "\n",
    "top200 = pd.DataFrame()\n",
    "for month in range(1, 12):\n",
    "    if (month <= 5): # Currently May\n",
    "        path = \"data/top200-\" + str(month) + \"-15-18.csv\"\n",
    "        top = pd.read_csv(path)\n",
    "        top200 = pd.concat([top, top200])\n",
    "        path = \"data/top200-\" + str(month) + \"-1-18.csv\"\n",
    "        top = pd.read_csv(path)\n",
    "        top200 = pd.concat([top, top200])\n",
    "    path = \"data/top200-\" + str(month) + \"-1-17.csv\"\n",
    "    top = pd.read_csv(path)\n",
    "    top200 = pd.concat([top, top200])\n",
    "    path = \"data/top200-\" + str(month) + \"-15-17.csv\"\n",
    "    top = pd.read_csv(path)\n",
    "    top200 = pd.concat([top, top200])\n",
    "\n",
    "    \n",
    "# Get artists\n",
    "artists = list(top200.Artist.unique())\n",
    "\n",
    "# mistakes from csv\n",
    "artists.remove(\"Redbone\")\n",
    "artists.remove(\"Trouble\")\n",
    "artists.append(\"Cage the Elephant\")"
   ]
  },
  {
   "cell_type": "code",
   "execution_count": 12,
   "metadata": {},
   "outputs": [],
   "source": [
    "# returns artist id\n",
    "def get_artist_id(artist, a_tracks_df):\n",
    "    for artists in a_tracks_df.artists:\n",
    "        for a in artists:\n",
    "            if (a[\"name\"] == artist):\n",
    "                artist_id = a[\"id\"]\n",
    "                return artist_id"
   ]
  },
  {
   "cell_type": "code",
   "execution_count": null,
   "metadata": {},
   "outputs": [],
   "source": [
    "# use artist to request track id's from every song they released in the US in 2017 and 2018\n",
    "tracks = pd.DataFrame()\n",
    "artists_list = list()\n",
    "genres_list = list()\n",
    "i=0\n",
    "for artist in artists:\n",
    "    artist_url = \"\" # need to reformat for api request\n",
    "    for word in artist.split():\n",
    "        artist_url = artist_url + word + \"+\"\n",
    "        \n",
    "    # get songs\n",
    "    url = \"https://api.spotify.com/v1/search?q=\" + artist_url + \"&year:2017-2018&type=track&market=US\"\n",
    "    resp = requests.get(\n",
    "        url, headers={\"Authorization\": \"Bearer \" + token}  \n",
    "    )\n",
    "\n",
    "    a_tracks = resp.json()\n",
    "    a_tracks_df = json_normalize(a_tracks[\"tracks\"], \"items\")\n",
    "    a_tracks_df[\"artist\"] = artist\n",
    "    \n",
    "    time.sleep(1.5) # otherwise I'm making requests too quickly\n",
    "    \n",
    "    # get artist id for genres\n",
    "    artist_id = get_artist_id(artist, a_tracks_df)\n",
    "    url = \"https://api.spotify.com/v1/artists/\" + str(artist_id)\n",
    "    resp = requests.get(\n",
    "         url, headers={\"Authorization\": \"Bearer \" + token}  \n",
    "    )\n",
    "    \n",
    "    if (resp.status_code != 200):\n",
    "        continue;\n",
    "        \n",
    "    artist_json = resp.json()\n",
    "    artists_list.append(artist)\n",
    "    genres_list.append(artist_json[\"genres\"])\n",
    "    tracks = pd.concat([a_tracks_df, tracks], ignore_index=True)\n",
    "    \n",
    "    time.sleep(1.5) # otherwise I'm making requests too quickly\n",
    "    print(i)\n",
    "    i += 1"
   ]
  },
  {
   "cell_type": "code",
   "execution_count": null,
   "metadata": {},
   "outputs": [],
   "source": [
    "# store as csv for later\n",
    "#tracks.to_csv('toptracks.csv')\n",
    "\n",
    "# store artist_genres into csv for later\n",
    "artists_genres = pd.DataFrame()\n",
    "artists_genres[\"artist\"] = artists_list\n",
    "artists_genres[\"genre\"] = genres_list\n",
    "#artists_genres.to_csv(\"artist_genres.csv\")"
   ]
  },
  {
   "cell_type": "code",
   "execution_count": 20,
   "metadata": {},
   "outputs": [],
   "source": [
    "# group tracks ids into groups of 100 (max limit for spotify requests)\n",
    "\n",
    "ids = list(tracks.id)\n",
    "ids_list = list()\n",
    "for i in range(0, int(len(tracks) / 100)):\n",
    "    ids_str = \"\"\n",
    "    for j in range(i*100, (i*100)+100):\n",
    "        ids_str = ids_str + str(tracks.id[j]) + \",\"\n",
    "    ids_list.append(ids_str)\n",
    "\n",
    "# remainder\n",
    "ids_str = \"\"\n",
    "for k in range((i+1)*100, len(tracks)):\n",
    "    ids_str = ids_str + str(tracks.id[k]) + \",\"\n",
    "ids_list.append(ids_str)"
   ]
  },
  {
   "cell_type": "code",
   "execution_count": null,
   "metadata": {},
   "outputs": [],
   "source": [
    "# get audio features for every track\n",
    "track_features = pd.DataFrame()\n",
    "for i in range(0, len(ids_list)):\n",
    "    url = \"https://api.spotify.com/v1/audio-features?ids=\" + str(ids_list[i])\n",
    "    resp = requests.get(\n",
    "        url, headers={\"Authorization\": \"Bearer \" + token}  \n",
    "    )\n",
    "    features_j = resp.json()\n",
    "    features_list = features_j[\"audio_features\"]\n",
    "    features_list = list(filter(None, features_list))\n",
    "    features = json_normalize(features_list)\n",
    "    track_features = pd.concat([features, track_features], ignore_index=True)\n",
    "    time.sleep(1)"
   ]
  },
  {
   "cell_type": "code",
   "execution_count": 22,
   "metadata": {},
   "outputs": [],
   "source": [
    "# save to csv for later\n",
    "#track_features.to_csv('track_features.csv')"
   ]
  },
  {
   "cell_type": "code",
   "execution_count": 4,
   "metadata": {},
   "outputs": [],
   "source": [
    "# get data frames from temporarily saved csv files\n",
    "artists_genre_df = pd.read_csv(\"saved_csvs/artist_genres.csv\")\n",
    "tracks = pd.read_csv(\"saved_csvs/toptracks.csv\")\n",
    "track_features = pd.read_csv(\"saved_csvs/track_features.csv\")\n",
    "\n",
    "artists_genre_df = artists_genre_df.drop(\"Unnamed: 0\", axis=1)\n",
    "tracks = tracks.drop(\"Unnamed: 0\", axis=1)\n",
    "track_features = track_features.drop(\"Unnamed: 0\", axis=1)"
   ]
  },
  {
   "cell_type": "code",
   "execution_count": 5,
   "metadata": {},
   "outputs": [],
   "source": [
    "tracks_simple = tracks.drop([\"available_markets\", \"disc_number\", \n",
    "                             \"external_ids\", \"external_urls\", \"is_local\",\n",
    "                             \"track_number\", \"type\", \"href\", \"album\", \"duration_ms\"], axis=1)"
   ]
  },
  {
   "cell_type": "code",
   "execution_count": 6,
   "metadata": {},
   "outputs": [],
   "source": [
    "# merge track dataset with track name and artist with audio features data frame\n",
    "# remove duplicate tracks\n",
    "tracks_df = tracks_simple.merge(track_features, on=[\"uri\", \"id\"], how=\"inner\")\n",
    "tracks_df = tracks_df.drop_duplicates([\"name\", \"artist\"])\n",
    "tracks_df = tracks_df.drop_duplicates([\"uri\"])\n",
    "tracks_df = tracks_df.reset_index()\n",
    "tracks_df = tracks_df.drop([\"index\", \"analysis_url\", \"track_href\", \"artists\"], axis=1)"
   ]
  },
  {
   "cell_type": "code",
   "execution_count": null,
   "metadata": {},
   "outputs": [],
   "source": [
    "# merge genres in with respective artists\n",
    "tracks_genres = tracks_df.merge(artists_genre_df, on=\"artist\", how=\"left\")"
   ]
  },
  {
   "cell_type": "code",
   "execution_count": 14,
   "metadata": {},
   "outputs": [],
   "source": [
    "# make separate categorical variables for genres\n",
    "genres_list = list([\"pop\", \"hip hop\", \"rap\", \"trap\", \"latin\", \"rock\", \"hollywood\", \"house\",\n",
    "                   \"country\", \"edm\", \"indie\", \"reggae\", \"R&B\"])\n",
    "\n",
    "genres_dict = {}\n",
    "for genre in genres_list:\n",
    "    genres_dict[genre] = tracks_genres.genre.str.contains(genre)\n",
    "genres_df = pd.DataFrame(genres_dict)\n",
    "\n",
    "final_tracks = tracks_genres.join(genres_df)\n",
    "# save for later\n",
    "#final_tracks.to_csv(\"final_tracks.csv\")"
   ]
  },
  {
   "cell_type": "code",
   "execution_count": 3,
   "metadata": {},
   "outputs": [],
   "source": [
    "tracks = pd.read_csv(\"final_tracks.csv\")"
   ]
  },
  {
   "cell_type": "code",
   "execution_count": 4,
   "metadata": {},
   "outputs": [],
   "source": [
    "# get main genre\n",
    "def return_general_genre(num, genre):\n",
    "    if genre == \"rap\" or genre == \"trap\":\n",
    "        return \"hip hop\"\n",
    "    if genre == \"hollywood\" or genre == \"a cappella\" or genre == \"disco\":\n",
    "        return \"pop\"\n",
    "    if genre == \"edm\" or genre == \"rave\" or genre == \"big room\" or genre == \"brostep\":\n",
    "        return \"house\"\n",
    "    if genre == \"indie\":\n",
    "        return \"alternative\"\n",
    "    if genre == \"R&B\" or genre == \"funk\":\n",
    "        return \"soul\"\n",
    "    return genre     "
   ]
  },
  {
   "cell_type": "code",
   "execution_count": 5,
   "metadata": {},
   "outputs": [],
   "source": [
    "genres_list = [\"pop\", \"hip hop\", \"rap\", \"latin\", \"rock\", \"hollywood\", \"house\",\n",
    "                   \"country\", \"edm\", \"indie\", \"alternative\", \"reggae\", \"R&B\", \"funk\", \"soul\",\n",
    "              \"a cappella\", \"disco\", \"rave\", \"big room\", \"brostep\"]\n",
    "def find_genre(song):\n",
    "    if len(song) == 2: # empty list, some artists didnt have genres\n",
    "        return None\n",
    "    for genre in genres_list:\n",
    "        num = song.split(\",\")[0].find(genre)\n",
    "        if num > -1:\n",
    "            return return_general_genre(num, genre)\n",
    "    if len(song.split(\",\")) > 1:\n",
    "        for genre in genres_list:\n",
    "            num = song.split(\",\")[1].find(genre)\n",
    "            if num > -1:\n",
    "                return return_general_genre(num, genre)\n",
    "    return \"other\""
   ]
  },
  {
   "cell_type": "code",
   "execution_count": 6,
   "metadata": {},
   "outputs": [],
   "source": [
    "tracks[\"main_genre\"] = tracks.genre.apply(find_genre)\n",
    "tracks = tracks.drop(\"Unnamed: 0\", axis=1)"
   ]
  },
  {
   "cell_type": "code",
   "execution_count": 13,
   "metadata": {},
   "outputs": [
    {
     "data": {
      "text/html": [
       "<div>\n",
       "<style scoped>\n",
       "    .dataframe tbody tr th:only-of-type {\n",
       "        vertical-align: middle;\n",
       "    }\n",
       "\n",
       "    .dataframe tbody tr th {\n",
       "        vertical-align: top;\n",
       "    }\n",
       "\n",
       "    .dataframe thead th {\n",
       "        text-align: right;\n",
       "    }\n",
       "</style>\n",
       "<table border=\"1\" class=\"dataframe\">\n",
       "  <thead>\n",
       "    <tr style=\"text-align: right;\">\n",
       "      <th></th>\n",
       "      <th>explicit</th>\n",
       "      <th>id</th>\n",
       "      <th>name</th>\n",
       "      <th>popularity</th>\n",
       "      <th>preview_url</th>\n",
       "      <th>uri</th>\n",
       "      <th>artist</th>\n",
       "      <th>acousticness</th>\n",
       "      <th>danceability</th>\n",
       "      <th>duration_ms</th>\n",
       "      <th>...</th>\n",
       "      <th>hollywood</th>\n",
       "      <th>house</th>\n",
       "      <th>indie</th>\n",
       "      <th>latin</th>\n",
       "      <th>pop</th>\n",
       "      <th>rap</th>\n",
       "      <th>reggae</th>\n",
       "      <th>rock</th>\n",
       "      <th>trap</th>\n",
       "      <th>main_genre</th>\n",
       "    </tr>\n",
       "  </thead>\n",
       "  <tbody>\n",
       "    <tr>\n",
       "      <th>0</th>\n",
       "      <td>False</td>\n",
       "      <td>66y7x28jXOPrcmu3D5Zjh6</td>\n",
       "      <td>A Million Dreams (Reprise)</td>\n",
       "      <td>78</td>\n",
       "      <td>https://p.scdn.co/mp3-preview/1f475e722fa38c51...</td>\n",
       "      <td>spotify:track:66y7x28jXOPrcmu3D5Zjh6</td>\n",
       "      <td>Austyn Johnson</td>\n",
       "      <td>0.7260</td>\n",
       "      <td>0.253</td>\n",
       "      <td>60453</td>\n",
       "      <td>...</td>\n",
       "      <td>False</td>\n",
       "      <td>False</td>\n",
       "      <td>False</td>\n",
       "      <td>False</td>\n",
       "      <td>False</td>\n",
       "      <td>False</td>\n",
       "      <td>False</td>\n",
       "      <td>False</td>\n",
       "      <td>False</td>\n",
       "      <td>None</td>\n",
       "    </tr>\n",
       "    <tr>\n",
       "      <th>1</th>\n",
       "      <td>False</td>\n",
       "      <td>2vvdTrdryjsl8DmPIMDWZU</td>\n",
       "      <td>EL BAÑO</td>\n",
       "      <td>87</td>\n",
       "      <td>https://p.scdn.co/mp3-preview/0456d479f76cda3f...</td>\n",
       "      <td>spotify:track:2vvdTrdryjsl8DmPIMDWZU</td>\n",
       "      <td>Enrique Iglesias</td>\n",
       "      <td>0.1320</td>\n",
       "      <td>0.719</td>\n",
       "      <td>228139</td>\n",
       "      <td>...</td>\n",
       "      <td>False</td>\n",
       "      <td>False</td>\n",
       "      <td>False</td>\n",
       "      <td>True</td>\n",
       "      <td>True</td>\n",
       "      <td>False</td>\n",
       "      <td>False</td>\n",
       "      <td>False</td>\n",
       "      <td>False</td>\n",
       "      <td>pop</td>\n",
       "    </tr>\n",
       "    <tr>\n",
       "      <th>2</th>\n",
       "      <td>False</td>\n",
       "      <td>7qCAVkHWZkF44OzOUKf8Cr</td>\n",
       "      <td>El Perdón</td>\n",
       "      <td>78</td>\n",
       "      <td>https://p.scdn.co/mp3-preview/61a4d49e478c5826...</td>\n",
       "      <td>spotify:track:7qCAVkHWZkF44OzOUKf8Cr</td>\n",
       "      <td>Enrique Iglesias</td>\n",
       "      <td>0.4460</td>\n",
       "      <td>0.628</td>\n",
       "      <td>205907</td>\n",
       "      <td>...</td>\n",
       "      <td>False</td>\n",
       "      <td>False</td>\n",
       "      <td>False</td>\n",
       "      <td>True</td>\n",
       "      <td>True</td>\n",
       "      <td>False</td>\n",
       "      <td>False</td>\n",
       "      <td>False</td>\n",
       "      <td>False</td>\n",
       "      <td>pop</td>\n",
       "    </tr>\n",
       "    <tr>\n",
       "      <th>3</th>\n",
       "      <td>False</td>\n",
       "      <td>32lm3769IRfcnrQV11LO4E</td>\n",
       "      <td>Bailando - Spanish Version</td>\n",
       "      <td>71</td>\n",
       "      <td>NaN</td>\n",
       "      <td>spotify:track:32lm3769IRfcnrQV11LO4E</td>\n",
       "      <td>Enrique Iglesias</td>\n",
       "      <td>0.0467</td>\n",
       "      <td>0.713</td>\n",
       "      <td>243413</td>\n",
       "      <td>...</td>\n",
       "      <td>False</td>\n",
       "      <td>False</td>\n",
       "      <td>False</td>\n",
       "      <td>True</td>\n",
       "      <td>True</td>\n",
       "      <td>False</td>\n",
       "      <td>False</td>\n",
       "      <td>False</td>\n",
       "      <td>False</td>\n",
       "      <td>pop</td>\n",
       "    </tr>\n",
       "    <tr>\n",
       "      <th>4</th>\n",
       "      <td>False</td>\n",
       "      <td>1BuTNbYxxFYezD1tT8AJR9</td>\n",
       "      <td>MOVE TO MIAMI</td>\n",
       "      <td>79</td>\n",
       "      <td>https://p.scdn.co/mp3-preview/b0959be241a530f3...</td>\n",
       "      <td>spotify:track:1BuTNbYxxFYezD1tT8AJR9</td>\n",
       "      <td>Enrique Iglesias</td>\n",
       "      <td>0.0166</td>\n",
       "      <td>0.740</td>\n",
       "      <td>169380</td>\n",
       "      <td>...</td>\n",
       "      <td>False</td>\n",
       "      <td>False</td>\n",
       "      <td>False</td>\n",
       "      <td>True</td>\n",
       "      <td>True</td>\n",
       "      <td>False</td>\n",
       "      <td>False</td>\n",
       "      <td>False</td>\n",
       "      <td>False</td>\n",
       "      <td>pop</td>\n",
       "    </tr>\n",
       "  </tbody>\n",
       "</table>\n",
       "<p>5 rows × 36 columns</p>\n",
       "</div>"
      ],
      "text/plain": [
       "   explicit                      id                        name  popularity  \\\n",
       "0     False  66y7x28jXOPrcmu3D5Zjh6  A Million Dreams (Reprise)          78   \n",
       "1     False  2vvdTrdryjsl8DmPIMDWZU                     EL BAÑO          87   \n",
       "2     False  7qCAVkHWZkF44OzOUKf8Cr                   El Perdón          78   \n",
       "3     False  32lm3769IRfcnrQV11LO4E  Bailando - Spanish Version          71   \n",
       "4     False  1BuTNbYxxFYezD1tT8AJR9               MOVE TO MIAMI          79   \n",
       "\n",
       "                                         preview_url  \\\n",
       "0  https://p.scdn.co/mp3-preview/1f475e722fa38c51...   \n",
       "1  https://p.scdn.co/mp3-preview/0456d479f76cda3f...   \n",
       "2  https://p.scdn.co/mp3-preview/61a4d49e478c5826...   \n",
       "3                                                NaN   \n",
       "4  https://p.scdn.co/mp3-preview/b0959be241a530f3...   \n",
       "\n",
       "                                    uri            artist  acousticness  \\\n",
       "0  spotify:track:66y7x28jXOPrcmu3D5Zjh6    Austyn Johnson        0.7260   \n",
       "1  spotify:track:2vvdTrdryjsl8DmPIMDWZU  Enrique Iglesias        0.1320   \n",
       "2  spotify:track:7qCAVkHWZkF44OzOUKf8Cr  Enrique Iglesias        0.4460   \n",
       "3  spotify:track:32lm3769IRfcnrQV11LO4E  Enrique Iglesias        0.0467   \n",
       "4  spotify:track:1BuTNbYxxFYezD1tT8AJR9  Enrique Iglesias        0.0166   \n",
       "\n",
       "   danceability  duration_ms    ...      hollywood  house  indie  latin  \\\n",
       "0         0.253        60453    ...          False  False  False  False   \n",
       "1         0.719       228139    ...          False  False  False   True   \n",
       "2         0.628       205907    ...          False  False  False   True   \n",
       "3         0.713       243413    ...          False  False  False   True   \n",
       "4         0.740       169380    ...          False  False  False   True   \n",
       "\n",
       "     pop    rap  reggae   rock   trap main_genre  \n",
       "0  False  False   False  False  False       None  \n",
       "1   True  False   False  False  False        pop  \n",
       "2   True  False   False  False  False        pop  \n",
       "3   True  False   False  False  False        pop  \n",
       "4   True  False   False  False  False        pop  \n",
       "\n",
       "[5 rows x 36 columns]"
      ]
     },
     "execution_count": 13,
     "metadata": {},
     "output_type": "execute_result"
    }
   ],
   "source": [
    "tracks.head()"
   ]
  },
  {
   "cell_type": "code",
   "execution_count": 10,
   "metadata": {},
   "outputs": [],
   "source": [
    "# save for later\n",
    "#tracks.to_csv(\"final_tracks.csv\")"
   ]
  },
  {
   "cell_type": "markdown",
   "metadata": {},
   "source": [
    "# Song Lyrics Collection"
   ]
  },
  {
   "cell_type": "markdown",
   "metadata": {},
   "source": [
    "Here, we collect the lyrics for each song in our dataframe. The lyrics are retrieved from the API lyrics.ovh. To obtain the lyrics for a particular song, we will use the API \n",
    "https://api.lyrics.ovh/v1/artist/title.\n",
    "\n",
    "Due to the slow responses of the API requests and the number of songs we had in our dataset, we decided to collect the songs in groups of 1000. This would help us split up the time we waited to obtain songs and ensure that our IP addresses were not blacklisted from the API. \n",
    "\n",
    "For each request to the lyrics API, we passed in the name and artist of the song. Then we created a dataframe to fill with the lyrics of each song per row in a column called \"lyrics\" (\"N/A\" if no lyric was returned). We returned that dataframe to be saved to a csv file for later use."
   ]
  },
  {
   "cell_type": "code",
   "execution_count": null,
   "metadata": {},
   "outputs": [],
   "source": [
    "from time import sleep\n",
    "from collections import Counter\n",
    "from sklearn.feature_extraction.text import TfidfVectorizer\n",
    "from sklearn.cluster import KMeans"
   ]
  },
  {
   "cell_type": "code",
   "execution_count": null,
   "metadata": {},
   "outputs": [],
   "source": [
    "final_tracks = pd.read_csv(\"saved_csvs/final_tracks.csv\")"
   ]
  },
  {
   "cell_type": "code",
   "execution_count": null,
   "metadata": {},
   "outputs": [],
   "source": [
    "# initialize\n",
    "track = final_tracks.loc[0]\n",
    "name = track[\"name\"]\n",
    "artist = track[\"artist\"]\n",
    "url = \"https://api.lyrics.ovh/v1/Post Malone/Go Flex\"\n",
    "resp = requests.get(url)\n",
    "resp.json()[\"lyrics\"]\n",
    "lyrics = pd.DataFrame(columns=[\"lyrics\"])"
   ]
  },
  {
   "cell_type": "code",
   "execution_count": null,
   "metadata": {},
   "outputs": [],
   "source": [
    "# function that returns lyrics between start and end indices\n",
    "def obtain_lyrics_for(start_index, end_index):\n",
    "    song_lyrics = pd.DataFrame(columns=[\"lyrics\"])\n",
    "    for index, track in final_tracks.iterrows():\n",
    "        if index >= start_index and index < end_index :\n",
    "            name = track[\"name\"]\n",
    "            artist = track[\"artist\"]\n",
    "            url = \"https://api.lyrics.ovh/v1/\" + artist + \"/\" + name\n",
    "            resp = requests.get(url)\n",
    "            if resp.status_code == 200:\n",
    "                lyrics = resp.json()[\"lyrics\"]\n",
    "                song_lyrics.loc[index, \"lyrics\"] = lyrics\n",
    "            else:\n",
    "                song_lyrics.loc[index, \"lyrics\"] = \"N/A\"\n",
    "    return song_lyrics"
   ]
  },
  {
   "cell_type": "code",
   "execution_count": null,
   "metadata": {},
   "outputs": [],
   "source": [
    "def obtain_all_lyrics():\n",
    "    for i in range(0, 6038, 1000):\n",
    "        temp = obtain_lyrics_for(i, i + 1000)\n",
    "        sleep(20)\n",
    "        file_name = \"up_to_\" + str(i + 1000) + \"_lyrics.csv\"\n",
    "        #temp.to_csv(file_name)"
   ]
  },
  {
   "cell_type": "code",
   "execution_count": null,
   "metadata": {},
   "outputs": [],
   "source": [
    "obtain_all_lyrics()"
   ]
  },
  {
   "cell_type": "code",
   "execution_count": null,
   "metadata": {},
   "outputs": [],
   "source": [
    "# initialize \n",
    "upto1000 = pd.read_csv(\"up_to_1000_lyrics.csv\")\n",
    "upto1000.columns = [\"song_index\", \"lyrics\"]\n",
    "upto1000.loc[199:225, \"lyrics\"] = upto1000.loc[199:225, \"song_index\"]\n",
    "upto1000.loc[198, \"lyrics\"] = upto1000.loc[198:225, \"lyrics\"].str.cat(sep=\" \")\n",
    "section1 = upto1000[upto1000.index < 199]\n",
    "section2 = upto1000[upto1000.index > 225]\n",
    "upto1000 = section1.append(section2)\n",
    "upto1000.song_index = upto1000.song_index.astype(int)\n",
    "#upto1000.to_csv(\"final_lyrics/up_to_1000_final.csv\")"
   ]
  },
  {
   "cell_type": "code",
   "execution_count": null,
   "metadata": {},
   "outputs": [],
   "source": [
    "for x in range(2000, 7001, 1000):\n",
    "    path1 = \"up_to_\" + x + \"_lyrics.csv\"\n",
    "    uptoX = pd.read_csv(path1)\n",
    "    uptoX.columns = [\"song_index\", \"lyrics\"]\n",
    "    path2 = \"final_lyrics/\" + path1\n",
    "    #uptoX.to_csv(path2)"
   ]
  },
  {
   "cell_type": "code",
   "execution_count": null,
   "metadata": {},
   "outputs": [],
   "source": [
    "all_lyrics = []\n",
    "for i in range(1, 8):\n",
    "    file_path = \"final_lyrics/up_to_\" + str(i) + \"000_final.csv\"\n",
    "    subset = pd.read_csv(file_path)\n",
    "    all_lyrics.append(subset)"
   ]
  },
  {
   "cell_type": "code",
   "execution_count": null,
   "metadata": {},
   "outputs": [],
   "source": [
    "song_lyrics = pd.concat(all_lyrics, ignore_index=True)\n",
    "#song_lyrics.to_csv(\"song_lyrics.csv\")"
   ]
  }
 ],
 "metadata": {
  "kernelspec": {
   "display_name": "Python 3",
   "language": "python",
   "name": "python3"
  },
  "language_info": {
   "codemirror_mode": {
    "name": "ipython",
    "version": 3
   },
   "file_extension": ".py",
   "mimetype": "text/x-python",
   "name": "python",
   "nbconvert_exporter": "python",
   "pygments_lexer": "ipython3",
   "version": "3.6.5"
  }
 },
 "nbformat": 4,
 "nbformat_minor": 2
}

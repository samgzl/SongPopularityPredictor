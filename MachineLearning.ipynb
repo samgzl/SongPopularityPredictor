{
 "cells": [
  {
   "cell_type": "markdown",
   "metadata": {},
   "source": [
    "# Machine Learning - Regression & Classification Models\n",
    "\n",
    "Can we predict the popularity of a song for a certain genre based on its audio features? Can we predict the genre of a song based on its audio features and lyrics?\n",
    "\n",
    "We approached these questions differently; for predicting popularity, we used a K-Nearest Neighbor Regression Model and for predicting genre, we used a K-Nearest Neighbor Classification Model. For both models, we utilized the audio features calculated by Spotify. Specifically we used the following features (as described on [Spotify's Web API Reference](https://developer.spotify.com/documentation/web-api/reference/tracks/get-audio-features/)):\n",
    "\n",
    " - **Acousticness**: A confidence measure from 0.0 to 1.0 of whether the track is acoustic. 1.0 represents high confidence the track is acoustic.\n",
    " - **Danceability**: Danceability describes how suitable a track is for dancing based on a combination of musical elements including tempo, rhythm stability, beat strength, and overall regularity. A value of 0.0 is least danceable and 1.0 is most danceable.\n",
    " - **Energy**: Energy is a measure from 0.0 to 1.0 and represents a perceptual measure of intensity and activity. Typically, energetic tracks feel fast, loud, and noisy. For example, death metal has high energy, while a Bach prelude scores low on the scale. Perceptual features contributing to this attribute include dynamic range, perceived loudness, timbre, onset rate, and general entropy.\n",
    " - **Instrumentalness**: Predicts whether a track contains no vocals. “Ooh” and “aah” sounds are treated as instrumental in this context. Rap or spoken word tracks are clearly “vocal”. The closer the instrumentalness value is to 1.0, the greater likelihood the track contains no vocal content. Values above 0.5 are intended to represent instrumental tracks, but confidence is higher as the value approaches 1.0.\n",
    " - **Loudness**: The overall loudness of a track in decibels (dB). Loudness values are averaged across the entire track and are useful for comparing relative loudness of tracks. Loudness is the quality of a sound that is the primary psychological correlate of physical strength (amplitude). ?Values typical range between -60 and 0 db.\n",
    " - **Tempo**: The overall estimated tempo of a track in beats per minute (BPM). In musical terminology, tempo is the speed or pace of a given piece and derives directly from the average beat duration.\n",
    " - **Time Signature**: An estimated overall time signature of a track. The time signature (meter) is a notational convention to specify how many beats are in each bar (or measure).\n",
    " - **Valence**: A measure from 0.0 to 1.0 describing the musical positiveness conveyed by a track. Tracks with high valence sound more positive (e.g. happy, cheerful, euphoric), while tracks with low valence sound more negative (e.g. sad, depressed, angry).\n"
   ]
  },
  {
   "cell_type": "code",
   "execution_count": 1,
   "metadata": {},
   "outputs": [],
   "source": [
    "import numpy as np\n",
    "import pandas as pd\n",
    "\n",
    "from sklearn.neighbors import KNeighborsRegressor\n",
    "from sklearn.neighbors import KNeighborsClassifier\n",
    "from sklearn.preprocessing import StandardScaler\n",
    "from sklearn.pipeline import Pipeline\n",
    "from sklearn.model_selection import cross_val_score\n",
    "pd.options.display.max_rows = 8\n",
    "%matplotlib inline"
   ]
  },
  {
   "cell_type": "code",
   "execution_count": 2,
   "metadata": {},
   "outputs": [],
   "source": [
    "tracks = pd.read_csv(\"/data301/share/final_tracks_lyrics.csv\")\n",
    "tracks = tracks.dropna()"
   ]
  },
  {
   "cell_type": "markdown",
   "metadata": {},
   "source": [
    "## Regression - Predicting Popularity\n",
    "\n",
    "For predicting popularity, we used a regression model. In addition, we used different audio features for each top genre - pop, rap, and country. Some feature choices were similar across all three genres, so we will highlight the unique choices.\n",
    "\n",
    "The popularity is an index we gathered from Spotify that is described on their [documenation](https://developer.spotify.com/documentation/web-api/reference/tracks/get-track/):\n",
    "\n",
    ">**Popularity**: The popularity of the track. The value will be between 0 and 100, with 100 being the most popular.\n",
    "The popularity of a track is a value between 0 and 100, with 100 being the most popular. The popularity is calculated by algorithm and is based, in the most part, on the total number of plays the track has had and how recent those plays are.\n",
    "Generally speaking, songs that are being played a lot now will have a higher popularity than songs that were played a lot in the past. Duplicate tracks (e.g. the same track from a single and an album) are rated independently.\n",
    "\n",
    "For *pop*, we included danceability because pop is often known for its upbeat, contagious energy. Danceability is a great way to determine this, while speechiness is better left out of the features because pop is more focused around the sound than the lyrical instensity.\n",
    "\n",
    "For *rap*, we included speechiness because a fundamental pillar of hip hop and rap is the lyrical diversity and intensity, while acousticness is not a common feature of rap.\n",
    "\n",
    "For *country*, we included acousticness because country often features acoustic guitar or similar sounds. We included danceability because much of modern country is focused around dancing and high energy. \n",
    "\n",
    "With the audio features, we used the top 1000 words from our TF-IDF analysis of the song lyrics we collected. This would help us find similar songs, given the subject matter and use of vocabulary."
   ]
  },
  {
   "cell_type": "code",
   "execution_count": 3,
   "metadata": {},
   "outputs": [],
   "source": [
    "pop_features = [\"danceability\", \"energy\", \"instrumentalness\",\n",
    "                     \"loudness\", \"tempo\", \"time_signature\",\n",
    "                    \"valence\"]\n",
    "\n",
    "rap_features = [\"speechiness\", \"energy\", \"instrumentalness\",\n",
    "                     \"loudness\", \"tempo\", \"time_signature\",\n",
    "                    \"valence\"]\n",
    "\n",
    "country_features = [\"acousticness\", \"danceability\", \"energy\", \"instrumentalness\",\n",
    "                     \"loudness\", \"tempo\", \"time_signature\",\n",
    "                    \"valence\"]"
   ]
  },
  {
   "cell_type": "markdown",
   "metadata": {},
   "source": [
    "To caluclate the root mean squared error for our regression model for each genre, we split up the dataset into to two samples (one for the training set and one for the test set). We then fed the training set into a pipeline to compute the *k* neighbors that would result in a the highest negative mean squared error. Once we obtained that *k*, we predicted the popularity for our test set and calculated the test error for our prediction model."
   ]
  },
  {
   "cell_type": "code",
   "execution_count": 4,
   "metadata": {},
   "outputs": [],
   "source": [
    "def get_mean_sq_error_for_popularity(spec_genre):\n",
    "    genre = tracks[tracks[spec_genre] == True]\n",
    "    train = genre.sample(frac=.5)\n",
    "    test = genre.drop(train.index)\n",
    "\n",
    "    if spec_genre == \"pop\":\n",
    "        variables = pop_features\n",
    "    elif spec_genre == \"rap\":\n",
    "        variables = rap_features\n",
    "    else:\n",
    "        variables = country_features\n",
    "    \n",
    "    metrics = train.loc[:, variables]\n",
    "\n",
    "    lyrics = train.loc[:, '0':'999']\n",
    "    X_train = pd.concat([metrics, lyrics], axis=1)\n",
    "    y_train = train[\"popularity\"]\n",
    "\n",
    "    metrics = test.loc[:, variables]\n",
    "\n",
    "    lyrics = test.loc[:, '0':'999']\n",
    "    X_test = pd.concat([metrics, lyrics], axis=1)\n",
    "    y_test = test[\"popularity\"]\n",
    "\n",
    "    X_train_std = (X_train - X_train.mean()) / X_train.std()\n",
    "    X_test_std = (X_test - X_train.mean()) / X_train.std()\n",
    "    \n",
    "    \n",
    "    ks = pd.Series(range(1, 90, 5)) \n",
    "    ks.index = ks\n",
    "\n",
    "    def get_cv_error_for_knn(k):\n",
    "        scaler = StandardScaler()\n",
    "        model = KNeighborsRegressor(n_neighbors=k)\n",
    "        pipeline = Pipeline([('transform', scaler), ('fit', model)])\n",
    "        return cross_val_score(pipeline, X_train, y_train, cv=10, scoring=\"neg_mean_squared_error\").mean()\n",
    "\n",
    "    cv_errors = ks.apply(get_cv_error_for_knn)\n",
    "    cv_errors.plot.line()\n",
    "    cv_errors.idxmax(), cv_errors.max()\n",
    "    \n",
    "    k = cv_errors.idxmax()\n",
    "\n",
    "    def get_kNN_prediction(row):\n",
    "        dists = ((row - X_train_std) ** 2).sum(axis=1)\n",
    "        inds_nearest = dists.sort_values().index[:k]\n",
    "        return y_train[inds_nearest].mean()\n",
    "\n",
    "    # test error\n",
    "    y_test_pred = X_test_std.apply(get_kNN_prediction, axis=1)\n",
    "    predictions = pd.DataFrame(columns=[\"popularity\", \"pred\"])\n",
    "    predictions[\"popularity\"] = y_test\n",
    "    predictions[\"pred\"] = y_test_pred\n",
    "    mse = ((y_test_pred - y_test) ** 2).mean()\n",
    "    rmse = np.sqrt(mse)\n",
    "    return (rmse, predictions)\n",
    "    \n",
    "    "
   ]
  },
  {
   "cell_type": "code",
   "execution_count": 5,
   "metadata": {},
   "outputs": [
    {
     "name": "stdout",
     "output_type": "stream",
     "text": [
      "Pop:  12.174705012\n",
      "Rap:  10.508605938\n",
      "Country:  12.0508738745\n"
     ]
    },
    {
     "data": {
      "image/png": "[encoded data removed]",
      "text/plain": [
       "<Figure size 432x288 with 1 Axes>"
      ]
     },
     "metadata": {},
     "output_type": "display_data"
    }
   ],
   "source": [
    "pop_rmse = get_mean_sq_error_for_popularity(\"pop\")\n",
    "rap_rmse = get_mean_sq_error_for_popularity(\"rap\")\n",
    "country_rmse = get_mean_sq_error_for_popularity(\"country\")\n",
    "\n",
    "print(\"Pop: \", pop_rmse[0])\n",
    "print(\"Rap: \", rap_rmse[0])\n",
    "print(\"Country: \", country_rmse[0])\n",
    "\n",
    "pop_pred = pop_rmse[1]\n",
    "rap_pred = rap_rmse[1]\n",
    "country_pred = country_rmse[1]\n"
   ]
  },
  {
   "cell_type": "markdown",
   "metadata": {},
   "source": [
    "### Representative Observations\n",
    "\n",
    "#### Pop: The Chainsmokers - Roses"
   ]
  },
  {
   "cell_type": "code",
   "execution_count": 6,
   "metadata": {},
   "outputs": [
    {
     "data": {
      "text/html": [
       "<div>\n",
       "<style scoped>\n",
       "    .dataframe tbody tr th:only-of-type {\n",
       "        vertical-align: middle;\n",
       "    }\n",
       "\n",
       "    .dataframe tbody tr th {\n",
       "        vertical-align: top;\n",
       "    }\n",
       "\n",
       "    .dataframe thead th {\n",
       "        text-align: right;\n",
       "    }\n",
       "</style>\n",
       "<table border=\"1\" class=\"dataframe\">\n",
       "  <thead>\n",
       "    <tr style=\"text-align: right;\">\n",
       "      <th></th>\n",
       "      <th>danceability</th>\n",
       "      <th>energy</th>\n",
       "      <th>instrumentalness</th>\n",
       "      <th>loudness</th>\n",
       "      <th>tempo</th>\n",
       "      <th>time_signature</th>\n",
       "      <th>valence</th>\n",
       "    </tr>\n",
       "  </thead>\n",
       "  <tbody>\n",
       "    <tr>\n",
       "      <th>4848</th>\n",
       "      <td>0.713</td>\n",
       "      <td>0.802</td>\n",
       "      <td>0.00377</td>\n",
       "      <td>-7.055</td>\n",
       "      <td>100.001</td>\n",
       "      <td>4</td>\n",
       "      <td>0.343</td>\n",
       "    </tr>\n",
       "  </tbody>\n",
       "</table>\n",
       "</div>"
      ],
      "text/plain": [
       "      danceability  energy  instrumentalness  loudness    tempo  \\\n",
       "4848         0.713   0.802           0.00377    -7.055  100.001   \n",
       "\n",
       "      time_signature  valence  \n",
       "4848               4    0.343  "
      ]
     },
     "execution_count": 6,
     "metadata": {},
     "output_type": "execute_result"
    }
   ],
   "source": [
    "roses = tracks[(tracks.name == \"Roses\") & (tracks.artist == \"The Chainsmokers\")]\n",
    "roses[pop_features]"
   ]
  },
  {
   "cell_type": "code",
   "execution_count": 7,
   "metadata": {},
   "outputs": [
    {
     "data": {
      "text/plain": [
       "Series([], Name: pred, dtype: float64)"
      ]
     },
     "execution_count": 7,
     "metadata": {},
     "output_type": "execute_result"
    }
   ],
   "source": [
    "pop_pred[\"name\"] = tracks.loc[pop_pred.index, \"name\"]\n",
    "pop_pred[\"artist\"] = tracks.loc[pop_pred.index, \"artist\"]\n",
    "pop_pred[(pop_pred.name == \"Roses\") & (pop_pred.artist == \"The Chainsmokers\")].pred"
   ]
  },
  {
   "cell_type": "code",
   "execution_count": 8,
   "metadata": {},
   "outputs": [
    {
     "data": {
      "text/plain": [
       "Series([], Name: popularity, dtype: int64)"
      ]
     },
     "execution_count": 8,
     "metadata": {},
     "output_type": "execute_result"
    }
   ],
   "source": [
    "pop_pred[(pop_pred.name == \"Roses\") & (pop_pred.artist == \"The Chainsmokers\")].popularity"
   ]
  },
  {
   "cell_type": "markdown",
   "metadata": {},
   "source": [
    "#### Rap: Chance The Rapper - Same Drugs"
   ]
  },
  {
   "cell_type": "code",
   "execution_count": 9,
   "metadata": {},
   "outputs": [
    {
     "data": {
      "text/html": [
       "<div>\n",
       "<style scoped>\n",
       "    .dataframe tbody tr th:only-of-type {\n",
       "        vertical-align: middle;\n",
       "    }\n",
       "\n",
       "    .dataframe tbody tr th {\n",
       "        vertical-align: top;\n",
       "    }\n",
       "\n",
       "    .dataframe thead th {\n",
       "        text-align: right;\n",
       "    }\n",
       "</style>\n",
       "<table border=\"1\" class=\"dataframe\">\n",
       "  <thead>\n",
       "    <tr style=\"text-align: right;\">\n",
       "      <th></th>\n",
       "      <th>speechiness</th>\n",
       "      <th>energy</th>\n",
       "      <th>instrumentalness</th>\n",
       "      <th>loudness</th>\n",
       "      <th>tempo</th>\n",
       "      <th>time_signature</th>\n",
       "      <th>valence</th>\n",
       "    </tr>\n",
       "  </thead>\n",
       "  <tbody>\n",
       "    <tr>\n",
       "      <th>4441</th>\n",
       "      <td>0.0555</td>\n",
       "      <td>0.293</td>\n",
       "      <td>0.00001</td>\n",
       "      <td>-9.52</td>\n",
       "      <td>180.297</td>\n",
       "      <td>4</td>\n",
       "      <td>0.531</td>\n",
       "    </tr>\n",
       "  </tbody>\n",
       "</table>\n",
       "</div>"
      ],
      "text/plain": [
       "      speechiness  energy  instrumentalness  loudness    tempo  \\\n",
       "4441       0.0555   0.293           0.00001     -9.52  180.297   \n",
       "\n",
       "      time_signature  valence  \n",
       "4441               4    0.531  "
      ]
     },
     "execution_count": 9,
     "metadata": {},
     "output_type": "execute_result"
    }
   ],
   "source": [
    "samedrugs = tracks[(tracks.name == \"Same Drugs\") & (tracks.artist == \"Chance The Rapper\")]\n",
    "samedrugs[rap_features]"
   ]
  },
  {
   "cell_type": "code",
   "execution_count": 10,
   "metadata": {},
   "outputs": [
    {
     "data": {
      "text/plain": [
       "Series([], Name: pred, dtype: float64)"
      ]
     },
     "execution_count": 10,
     "metadata": {},
     "output_type": "execute_result"
    }
   ],
   "source": [
    "rap_pred[\"name\"] = tracks.loc[rap_pred.index, \"name\"]\n",
    "rap_pred[\"artist\"] = tracks.loc[rap_pred.index, \"artist\"]\n",
    "rap_pred[(rap_pred.name == \"Same Drugs\") & (rap_pred.artist == \"Chance The Rapper\")].pred"
   ]
  },
  {
   "cell_type": "code",
   "execution_count": 11,
   "metadata": {},
   "outputs": [
    {
     "data": {
      "text/plain": [
       "Series([], Name: popularity, dtype: int64)"
      ]
     },
     "execution_count": 11,
     "metadata": {},
     "output_type": "execute_result"
    }
   ],
   "source": [
    "rap_pred[(rap_pred.name == \"Same Drugs\") & (rap_pred.artist == \"Chance The Rapper\")].popularity"
   ]
  },
  {
   "cell_type": "markdown",
   "metadata": {},
   "source": [
    "#### Country: Jason Aldean - My Kinda Party"
   ]
  },
  {
   "cell_type": "code",
   "execution_count": 12,
   "metadata": {},
   "outputs": [
    {
     "data": {
      "text/html": [
       "<div>\n",
       "<style scoped>\n",
       "    .dataframe tbody tr th:only-of-type {\n",
       "        vertical-align: middle;\n",
       "    }\n",
       "\n",
       "    .dataframe tbody tr th {\n",
       "        vertical-align: top;\n",
       "    }\n",
       "\n",
       "    .dataframe thead th {\n",
       "        text-align: right;\n",
       "    }\n",
       "</style>\n",
       "<table border=\"1\" class=\"dataframe\">\n",
       "  <thead>\n",
       "    <tr style=\"text-align: right;\">\n",
       "      <th></th>\n",
       "      <th>acousticness</th>\n",
       "      <th>danceability</th>\n",
       "      <th>energy</th>\n",
       "      <th>instrumentalness</th>\n",
       "      <th>loudness</th>\n",
       "      <th>tempo</th>\n",
       "      <th>time_signature</th>\n",
       "      <th>valence</th>\n",
       "    </tr>\n",
       "  </thead>\n",
       "  <tbody>\n",
       "    <tr>\n",
       "      <th>2339</th>\n",
       "      <td>0.0167</td>\n",
       "      <td>0.41</td>\n",
       "      <td>0.9</td>\n",
       "      <td>0.000011</td>\n",
       "      <td>-4.249</td>\n",
       "      <td>176.962</td>\n",
       "      <td>4</td>\n",
       "      <td>0.558</td>\n",
       "    </tr>\n",
       "  </tbody>\n",
       "</table>\n",
       "</div>"
      ],
      "text/plain": [
       "      acousticness  danceability  energy  instrumentalness  loudness    tempo  \\\n",
       "2339        0.0167          0.41     0.9          0.000011    -4.249  176.962   \n",
       "\n",
       "      time_signature  valence  \n",
       "2339               4    0.558  "
      ]
     },
     "execution_count": 12,
     "metadata": {},
     "output_type": "execute_result"
    }
   ],
   "source": [
    "party = tracks[(tracks.name == \"My Kinda Party\") & (tracks.artist == \"Jason Aldean\")]\n",
    "party[country_features]"
   ]
  },
  {
   "cell_type": "code",
   "execution_count": 13,
   "metadata": {},
   "outputs": [
    {
     "data": {
      "text/plain": [
       "2339    58.647887\n",
       "Name: pred, dtype: float64"
      ]
     },
     "execution_count": 13,
     "metadata": {},
     "output_type": "execute_result"
    }
   ],
   "source": [
    "country_pred[\"name\"] = tracks.loc[country_pred.index, \"name\"]\n",
    "country_pred[\"artist\"] = tracks.loc[country_pred.index, \"artist\"]\n",
    "country_pred[(country_pred.name == \"My Kinda Party\") & (country_pred.artist == \"Jason Aldean\")].pred"
   ]
  },
  {
   "cell_type": "code",
   "execution_count": 14,
   "metadata": {},
   "outputs": [
    {
     "data": {
      "text/plain": [
       "2339    65\n",
       "Name: popularity, dtype: int64"
      ]
     },
     "execution_count": 14,
     "metadata": {},
     "output_type": "execute_result"
    }
   ],
   "source": [
    "country_pred[(country_pred.name == \"My Kinda Party\") & (country_pred.artist == \"Jason Aldean\")].popularity"
   ]
  },
  {
   "cell_type": "markdown",
   "metadata": {},
   "source": [
    "## Classification - Predicting Genre\n",
    "\n",
    "For predicting genre, we used a classification model. Unlike our regression model, we used one list of audio features for the entire dataset we were training and testing on.\n",
    "\n",
    "With the audio features, we used the top 1000 words from our TF-IDF analysis of the song lyrics we collected. This would help us find similar songs, given the subject matter and use of vocabulary.\n",
    "\n",
    "In order to keep the classification model succinct, we limited the Y of our model to the four most popular genres: pop, hip hop, country, and house. "
   ]
  },
  {
   "cell_type": "code",
   "execution_count": 15,
   "metadata": {},
   "outputs": [],
   "source": [
    "final_tracks_lyrics = pd.read_csv(\"/data301/share/final_tracks_lyrics.csv\")\n",
    "final_tracks_genres = pd.read_csv(\"/data301/share/final_tracks.csv\")"
   ]
  },
  {
   "cell_type": "code",
   "execution_count": 16,
   "metadata": {},
   "outputs": [],
   "source": [
    "lyrics = final_tracks_lyrics.loc[:, \"0\":\"999\"]\n",
    "tracks = pd.concat([final_tracks_genres, lyrics], axis=1)\n",
    "tracks = tracks.dropna()\n",
    "tracks_main_genres = tracks[(tracks[\"main_genre\"] == \"pop\") | (tracks[\"main_genre\"] == \"hip hop\") \n",
    "                            | (tracks[\"main_genre\"] == \"country\") | (tracks[\"main_genre\"] == \"house\")]"
   ]
  },
  {
   "cell_type": "markdown",
   "metadata": {},
   "source": [
    "To caluclate the accuracy for our classification model of our genre predictor, we split up the dataset into to two samples (one for the training set and one for the test set). We then fed the training set into a pipeline to compute the *k* neighbors that would result in a the highest accuracy. Once we obtained that *k*, we predicted the genre for our test set and calculated the test error for our prediction model."
   ]
  },
  {
   "cell_type": "code",
   "execution_count": 17,
   "metadata": {},
   "outputs": [],
   "source": [
    "train = tracks_main_genres.sample(frac=.5)\n",
    "test = tracks_main_genres.drop(train.index)\n",
    "\n",
    "metrics = train.loc[:, [\"acousticness\", \"danceability\", \"energy\", \"speechiness\", \"instrumentalness\",\n",
    "                 \"loudness\", \"tempo\", \"time_signature\",\n",
    "                \"valence\", \"popularity\"]]\n",
    "lyrics = train.loc[:, '0':'999']\n",
    "X_train = pd.concat([metrics, lyrics], axis=1)\n",
    "y_train = train[\"main_genre\"]\n",
    "\n",
    "metrics = test.loc[:, [\"acousticness\", \"danceability\", \"energy\", \"speechiness\", \"instrumentalness\",\n",
    "                 \"loudness\", \"tempo\", \"time_signature\",\n",
    "                \"valence\", \"popularity\"]]\n",
    "lyrics = test.loc[:, '0':'999']\n",
    "X_test = pd.concat([metrics, lyrics], axis=1)\n",
    "\n",
    "y_test = test[\"main_genre\"]\n",
    "\n",
    "X_train_std = (X_train - X_train.mean()) / X_train.std()\n",
    "X_test_std = (X_test - X_train.mean()) / X_train.std()"
   ]
  },
  {
   "cell_type": "markdown",
   "metadata": {},
   "source": [
    "It is important note, due to the high count of pop songs from Spotify, our training set was majority pop songs. This will be important to note in the results of our machine learning."
   ]
  },
  {
   "cell_type": "code",
   "execution_count": 18,
   "metadata": {},
   "outputs": [
    {
     "data": {
      "text/plain": [
       "pop        476\n",
       "hip hop    220\n",
       "country     94\n",
       "house       78\n",
       "Name: main_genre, dtype: int64"
      ]
     },
     "execution_count": 18,
     "metadata": {},
     "output_type": "execute_result"
    }
   ],
   "source": [
    "y_train.value_counts()"
   ]
  },
  {
   "cell_type": "code",
   "execution_count": 19,
   "metadata": {},
   "outputs": [
    {
     "data": {
      "text/plain": [
       "(56, 0.54728084300717439)"
      ]
     },
     "execution_count": 19,
     "metadata": {},
     "output_type": "execute_result"
    },
    {
     "data": {
      "image/png": "[encoded data removed]",
      "text/plain": [
       "<Figure size 432x288 with 1 Axes>"
      ]
     },
     "metadata": {},
     "output_type": "display_data"
    }
   ],
   "source": [
    "from sklearn.neighbors import KNeighborsClassifier\n",
    "\n",
    "ks = pd.Series(range(1, 100, 5)) \n",
    "ks.index = ks\n",
    "\n",
    "def get_cv_error_for_knn(k):\n",
    "    scaler = StandardScaler()\n",
    "    model = KNeighborsClassifier(n_neighbors=k)\n",
    "    pipeline = Pipeline([('transform', scaler), ('fit', model)])\n",
    "    return cross_val_score(pipeline, X_train, y_train, cv=10, scoring=\"accuracy\").mean()\n",
    "\n",
    "cv_errors = ks.apply(get_cv_error_for_knn)\n",
    "cv_errors.plot.line()\n",
    "cv_errors.idxmax(), cv_errors.max()"
   ]
  },
  {
   "cell_type": "code",
   "execution_count": 20,
   "metadata": {},
   "outputs": [],
   "source": [
    "k = cv_errors.idxmax()\n",
    "\n",
    "def get_kNN_prediction(row):\n",
    "    dists = ((row - X_train_std) ** 2).sum(axis=1)\n",
    "    inds_nearest = dists.sort_values().index[:k]\n",
    "    return y_train[inds_nearest].value_counts().idxmax()\n",
    "\n",
    "# test error\n",
    "pred = X_test_std.apply(get_kNN_prediction, axis=1)\n",
    "actual = y_test"
   ]
  },
  {
   "cell_type": "code",
   "execution_count": 21,
   "metadata": {},
   "outputs": [
    {
     "data": {
      "text/plain": [
       "(0.53179190751445082, 1.0)"
      ]
     },
     "execution_count": 21,
     "metadata": {},
     "output_type": "execute_result"
    }
   ],
   "source": [
    "precision = (((pred == \"pop\") & (actual == \"pop\")).sum() /\n",
    "            (pred == \"pop\").sum())\n",
    "recall = (((pred == \"pop\") & (actual == \"pop\")).sum() /\n",
    "            (actual == \"pop\").sum())\n",
    "\n",
    "precision, recall"
   ]
  },
  {
   "cell_type": "markdown",
   "metadata": {},
   "source": [
    "When computing the precision and recall of our model, we found our precision for the pop genre to be 0.53 with a recall of 1.0. This shows that the model has the tendency to put songs into the pop genre due to the wide variety of audio features that so many pop songs demonstrate and the fact that the majority of songs in our dataset are of the pop genre."
   ]
  },
  {
   "cell_type": "code",
   "execution_count": 22,
   "metadata": {},
   "outputs": [
    {
     "data": {
      "text/plain": [
       "(0.5, 0.0043668122270742356)"
      ]
     },
     "execution_count": 22,
     "metadata": {},
     "output_type": "execute_result"
    }
   ],
   "source": [
    "precision = (((pred == \"hip hop\") & (actual == \"hip hop\")).sum() /\n",
    "            (pred == \"hip hop\").sum())\n",
    "recall = (((pred == \"hip hop\") & (actual == \"hip hop\")).sum() /\n",
    "            (actual == \"hip hop\").sum())\n",
    "\n",
    "precision, recall"
   ]
  },
  {
   "cell_type": "code",
   "execution_count": 23,
   "metadata": {},
   "outputs": [
    {
     "name": "stderr",
     "output_type": "stream",
     "text": [
      "/opt/conda/lib/python3.6/site-packages/ipykernel_launcher.py:2: RuntimeWarning: invalid value encountered in long_scalars\n",
      "  \n"
     ]
    },
    {
     "data": {
      "text/plain": [
       "(nan, 0.0)"
      ]
     },
     "execution_count": 23,
     "metadata": {},
     "output_type": "execute_result"
    }
   ],
   "source": [
    "precision = (((pred == \"country\") & (actual == \"country\")).sum() /\n",
    "            (pred == \"country\").sum())\n",
    "recall = (((pred == \"country\") & (actual == \"country\")).sum() /\n",
    "            (actual == \"country\").sum())\n",
    "\n",
    "precision, recall"
   ]
  },
  {
   "cell_type": "code",
   "execution_count": 24,
   "metadata": {},
   "outputs": [
    {
     "name": "stderr",
     "output_type": "stream",
     "text": [
      "/opt/conda/lib/python3.6/site-packages/ipykernel_launcher.py:2: RuntimeWarning: invalid value encountered in long_scalars\n",
      "  \n"
     ]
    },
    {
     "data": {
      "text/plain": [
       "(nan, 0.0)"
      ]
     },
     "execution_count": 24,
     "metadata": {},
     "output_type": "execute_result"
    }
   ],
   "source": [
    "precision = (((pred == \"house\") & (actual == \"house\")).sum() /\n",
    "            (pred == \"house\").sum())\n",
    "recall = (((pred == \"house\") & (actual == \"house\")).sum() /\n",
    "            (actual == \"house\").sum())\n",
    "\n",
    "precision, recall"
   ]
  },
  {
   "cell_type": "markdown",
   "metadata": {},
   "source": [
    "Because of the vast majority of songs being pop, our classification model isnt great. Looking back, it would have been a better idea to somehow try to collect the most popular songs from a few different genres, rather than just the top 200 charts, which mainly consist of pop artists. Our regression model would also benefit from this. Also, if we could have gotten the actual genre for every individual song rather than from the aritst and generalizing the genre across the artist's different songs, our models would be better."
   ]
  }
 ],
 "metadata": {
  "kernelspec": {
   "display_name": "Python 3",
   "language": "python",
   "name": "python3"
  },
  "language_info": {
   "codemirror_mode": {
    "name": "ipython",
    "version": 3
   },
   "file_extension": ".py",
   "mimetype": "text/x-python",
   "name": "python",
   "nbconvert_exporter": "python",
   "pygments_lexer": "ipython3",
   "version": "3.6.5"
  }
 },
 "nbformat": 4,
 "nbformat_minor": 2
}
